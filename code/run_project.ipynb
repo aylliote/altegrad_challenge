{
 "cells": [
  {
   "cell_type": "code",
   "execution_count": null,
   "metadata": {
    "collapsed": true
   },
   "outputs": [],
   "source": [
    "## IMPORT MODULE TO PREPROCESS THE QUESTIONS\n",
    "\n",
    "from preprocess_questions import *"
   ]
  },
  {
   "cell_type": "code",
   "execution_count": null,
   "metadata": {
    "collapsed": true
   },
   "outputs": [],
   "source": [
    "path_train = \"data/train.csv\" # XX : to fill\n",
    "path_test = \"data/test.csv\" # XX : to fill"
   ]
  },
  {
   "cell_type": "code",
   "execution_count": null,
   "metadata": {
    "collapsed": true
   },
   "outputs": [],
   "source": [
    "## PREPROCESS QUESTIONS AND SAVE TO train_processed AND test_processed\n",
    "\n",
    "main(path_train, path_test)"
   ]
  },
  {
   "cell_type": "code",
   "execution_count": null,
   "metadata": {
    "collapsed": true
   },
   "outputs": [],
   "source": [
    "## IMPORT MODULE TO PERFORM FEATURE EXTRACTION\n",
    "\n",
    "from generate_features import *"
   ]
  },
  {
   "cell_type": "code",
   "execution_count": null,
   "metadata": {
    "collapsed": true
   },
   "outputs": [],
   "source": [
    "path_train = \"train_processed.csv\"\n",
    "path_test = \"test_processed.csv\"\n",
    "\n",
    "df_train = pd.read_csv(path_train)\n",
    "df_test = pd.read_csv(path_test)\n",
    "\n",
    "df_train['q1p'] = df_train.q1p.progress_apply(eval)\n",
    "df_train['q2p'] = df_train.q2p.progress_apply(eval)\n",
    "df_test['q1p'] = df_test.q1p.progress_apply(eval)\n",
    "df_test['q2p'] = df_test.q2p.progress_apply(eval)"
   ]
  },
  {
   "cell_type": "code",
   "execution_count": null,
   "metadata": {
    "collapsed": true
   },
   "outputs": [],
   "source": [
    "## INSTANTIATE A FEATURE EXTRACTOR\n",
    "\n",
    "feature_extractor = FeatureExtractor([TfidfVectorizer(ngram_range = (1,3) ,stop_words='english'),\n",
    "                                          CountVectorizer(ngram_range = (1,3) ,stop_words='english')])"
   ]
  },
  {
   "cell_type": "code",
   "execution_count": null,
   "metadata": {
    "collapsed": true
   },
   "outputs": [],
   "source": [
    "## FIT THE FEATURE EXTRACTOR\n",
    "\n",
    "feature_extractor.fit(df_train, df_test)"
   ]
  },
  {
   "cell_type": "code",
   "execution_count": null,
   "metadata": {
    "collapsed": true
   },
   "outputs": [],
   "source": [
    "## EXTRACT FEATURES AND CREATE FINAL DATASET\n",
    "\n",
    "import time\n",
    "t = time.time()\n",
    "x_train, x_test = feature_extractor.transform(df_train, df_test)\n",
    "print(' ')\n",
    "print(' Done in %d seconds' % (int(time.time() - t)))"
   ]
  },
  {
   "cell_type": "code",
   "execution_count": null,
   "metadata": {
    "collapsed": true
   },
   "outputs": [],
   "source": [
    "## SAVE THE FEATURES\n",
    "\n",
    "from sklearn.externals import joblib\n",
    "\n",
    "joblib.dump(x_train, 'dataset_train.pkl')\n",
    "joblib.dump(x_test, 'dataset_test.pkl')"
   ]
  },
  {
   "cell_type": "code",
   "execution_count": null,
   "metadata": {
    "collapsed": true
   },
   "outputs": [],
   "source": [
    "y_train = df_train.is_duplicate.values"
   ]
  },
  {
   "cell_type": "code",
   "execution_count": null,
   "metadata": {
    "collapsed": true
   },
   "outputs": [],
   "source": [
    "## MODULE TO TRAIN THE LGBM MODEL\n",
    "\n",
    "from lgbm_model import *"
   ]
  },
  {
   "cell_type": "code",
   "execution_count": null,
   "metadata": {
    "collapsed": true
   },
   "outputs": [],
   "source": [
    "## TRAIN THE LGBM MODEL\n",
    "\n",
    "train_lgbm()"
   ]
  },
  {
   "cell_type": "code",
   "execution_count": null,
   "metadata": {
    "collapsed": true
   },
   "outputs": [],
   "source": [
    "## NEXT CELLS : EXTRACT NLP AND NON NLP FEATURES FOR\n",
    "## THE AHMET'S LSTM MODEL AND TRAIN THE LSTM MODEL"
   ]
  },
  {
   "cell_type": "code",
   "execution_count": null,
   "metadata": {
    "collapsed": true
   },
   "outputs": [],
   "source": [
    "!python lstm_nlp.py"
   ]
  },
  {
   "cell_type": "code",
   "execution_count": null,
   "metadata": {
    "collapsed": true
   },
   "outputs": [],
   "source": [
    "!python lstm_non_nlp.py"
   ]
  },
  {
   "cell_type": "code",
   "execution_count": null,
   "metadata": {
    "collapsed": true
   },
   "outputs": [],
   "source": [
    "!python lstm_model.py"
   ]
  },
  {
   "cell_type": "code",
   "execution_count": null,
   "metadata": {
    "collapsed": true
   },
   "outputs": [],
   "source": [
    "## AVERAGE THE 10 OUT OF FOLDS PREDICTIONS FOR EACH MODEL\n",
    "\n",
    "path = \"lgbm_preds\"\n",
    "scores_lgbm = np.zeros((20179,))\n",
    "for i in range(10):\n",
    "    scores_lgbm += pd.read_csv(path + str(i) + \".csv\").is_duplicate.values\n",
    "    \n",
    "scores_lgbm /= 10\n",
    "\n",
    "path = \"lstm_preds\"\n",
    "scores_lstm = np.zeros((20179,))\n",
    "for i in range(10):\n",
    "    scores_lstm += pd.read_csv(path + str(i) + \".csv\").is_duplicate.values\n",
    "    \n",
    "scores_lstm /= 10"
   ]
  },
  {
   "cell_type": "code",
   "execution_count": null,
   "metadata": {
    "collapsed": true
   },
   "outputs": [],
   "source": [
    "## MODULE TO POSTPROCESS SCORES\n",
    "\n",
    "from postprocess import *"
   ]
  },
  {
   "cell_type": "code",
   "execution_count": null,
   "metadata": {
    "collapsed": true
   },
   "outputs": [],
   "source": [
    "## BOOST SCORES FOR EACH MODEL\n",
    "\n",
    "post_process(scores_lgbm, \"10folds_lgbm_boost_2.csv\")\n",
    "post_process(scores_lstm, \"10folds_lstm_boost_2.csv\")"
   ]
  },
  {
   "cell_type": "code",
   "execution_count": null,
   "metadata": {
    "collapsed": true
   },
   "outputs": [],
   "source": [
    "## WEIGHTED AVERAGE OF THE BOOSTED SCORES OF EACH MODEL\n",
    "\n",
    "preds_lgbm = pd.read_csv(\"10folds_lgbm_boost_2.csv\")\n",
    "preds_lstm = pd.read_csv(\"10folds_lstm_boost_2.csv\")\n",
    "\n",
    "preds = 0.6 * preds_lstm['Score'].values + 0.4 * preds_lgbm['Score'].values"
   ]
  },
  {
   "cell_type": "code",
   "execution_count": null,
   "metadata": {
    "collapsed": true
   },
   "outputs": [],
   "source": [
    "## BOOST 1x THE PREDICTIONS AND SAVE THE FILE TO SUBMIT ON KAGGLE\n",
    "post_process(preds, 'final_submission.csv', REPEAT = 1)"
   ]
  }
 ],
 "metadata": {
  "kernelspec": {
   "display_name": "Python 3",
   "language": "python",
   "name": "python3"
  },
  "language_info": {
   "codemirror_mode": {
    "name": "ipython",
    "version": 3
   },
   "file_extension": ".py",
   "mimetype": "text/x-python",
   "name": "python",
   "nbconvert_exporter": "python",
   "pygments_lexer": "ipython3",
   "version": "3.5.3"
  }
 },
 "nbformat": 4,
 "nbformat_minor": 2
}
